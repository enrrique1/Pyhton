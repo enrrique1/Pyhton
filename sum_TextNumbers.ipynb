{
 "cells": [
  {
   "cell_type": "markdown",
   "metadata": {},
   "source": [
    "# Sum Text numbers"
   ]
  },
  {
   "cell_type": "markdown",
   "metadata": {},
   "source": [
    "Code Created by Luis Enrique Acevedo Galicia\n",
    "\n",
    "Date: 2019-02-07\n",
    "\n",
    "Taken and adapted from Python Cookbook 3rd -edition\n",
    "\n",
    "You can perform arithmetic operations using numbers written with letters. The same for the operators. The code accepts both numbers and letters (upper or lower cases)"
   ]
  },
  {
   "cell_type": "code",
   "execution_count": 35,
   "metadata": {},
   "outputs": [],
   "source": [
    "import re\n",
    "import collections"
   ]
  },
  {
   "cell_type": "code",
   "execution_count": 151,
   "metadata": {},
   "outputs": [],
   "source": [
    "# Token specification\n",
    "NUM = r'(?P<NUM>\\d+)'\n",
    "PLUS = r'(?P<PLUS>\\+)'\n",
    "MINUS = r'(?P<MINUS>-)'\n",
    "TIMES = r'(?P<TIMES>\\*)'\n",
    "DIVIDE = r'(?P<DIVIDE>/)'\n",
    "LPAREN = r'(?P<LPAREN>\\()'\n",
    "RPAREN = r'(?P<RPAREN>\\))'\n",
    "ZERO = r'(?P<ZERO>zero)'\n",
    "ONE = r'(?P<ONE>one)'\n",
    "TWO = r'(?P<TWO>two)'\n",
    "THREE = r'(?P<THREE>three)'\n",
    "FOUR = r'(?P<FOUR>four)'\n",
    "FIVE = r'(?P<FIVE>five)'\n",
    "SIX = r'(?P<SIX>six)'\n",
    "SEVEN = r'(?P<SEVEN>seven)'\n",
    "EIGHT = r'(?P<EIGHT>eight)'\n",
    "NINE = r'(?P<NINE>nine)'\n",
    "WS = r'(?P<WS>\\s+)'\n",
    "PLUSs = r'(?P<PLUSs>plus)'\n",
    "MINUSs = r'(?P<MINUSs>minus)'\n",
    "TIMESs = r'(?P<TIMESs>times)'\n",
    "DIVIDEs = r'(?P<DIVIDEs>divide)'\n",
    "master_pat = re.compile('|'.join([NUM, PLUS, MINUS, TIMES, DIVIDE, LPAREN, RPAREN,ZERO,ONE,TWO,THREE, FOUR, FIVE, SIX, SEVEN, EIGHT, NINE, PLUSs, MINUSs, TIMESs, DIVIDEs, WS]))"
   ]
  },
  {
   "cell_type": "code",
   "execution_count": 152,
   "metadata": {},
   "outputs": [],
   "source": [
    "from collections import namedtuple\n",
    "Token = collections.namedtuple('Token', ['type','value'])"
   ]
  },
  {
   "cell_type": "code",
   "execution_count": 154,
   "metadata": {},
   "outputs": [],
   "source": [
    "def generate_tokens(text):\n",
    "    text=text.lower()\n",
    "    scanner = master_pat.scanner(text)\n",
    "    for m in iter(scanner.match, None):\n",
    "        tok = Token(m.lastgroup, m.group())\n",
    "        if tok.type=='ZERO':\n",
    "            tok = Token('NUM', '0')\n",
    "        if tok.type=='ONE':\n",
    "            tok = Token('NUM', '1')\n",
    "        if tok.type=='TWO':\n",
    "            tok = Token('NUM', '2')\n",
    "        if tok.type=='THREE':\n",
    "            tok = Token('NUM', '3')\n",
    "        if tok.type=='FOUR':\n",
    "            tok = Token('NUM', '4')\n",
    "        if tok.type=='FIVE':\n",
    "            tok = Token('NUM', '5')\n",
    "        if tok.type=='SIX':\n",
    "            tok = Token('NUM', '6')\n",
    "        if tok.type=='SEVEN':\n",
    "            tok = Token('NUM', '7')\n",
    "        if tok.type=='EIGHT':\n",
    "            tok = Token('NUM', '8')    \n",
    "        if tok.type=='NINE':\n",
    "            tok = Token('NUM', '9')\n",
    "        if tok.type=='PLUSs':\n",
    "            tok = Token('PLUS', '+')\n",
    "        if tok.type=='MINUSs':\n",
    "            tok = Token('MINUS', '-')\n",
    "        if tok.type=='TIMESs':\n",
    "            tok = Token('TIMES', '*')\n",
    "        if tok.type=='DIVIDEs':\n",
    "            tok = Token('DIVIDE', '/')\n",
    "            #print(tok)\n",
    "        if tok.type != 'WS':\n",
    "            yield tok\n",
    "        \n",
    "def matchcase(word):\n",
    "    return word.lower()\n",
    "\n"
   ]
  },
  {
   "cell_type": "code",
   "execution_count": 155,
   "metadata": {},
   "outputs": [],
   "source": [
    "# Parser\n",
    "class ExpressionEvaluator:\n",
    "    \n",
    "    def parse(self,text):\n",
    "        self.tokens = generate_tokens(text)\n",
    "        self.tok = None\n",
    "        # Last symbol consumed\n",
    "        self.nexttok = None\n",
    "        # Next symbol tokenized\n",
    "        self._advance()\n",
    "        # Load first lookahead token\n",
    "        return self.expr()\n",
    "    \n",
    "    def _advance(self):\n",
    "        'Advance one token ahead'\n",
    "        self.tok, self.nexttok = self.nexttok, next(self.tokens, None)\n",
    "    \n",
    "    def _accept(self,toktype):\n",
    "        'Test and consume the next token if it matches toktype'\n",
    "        if self.nexttok and self.nexttok.type == toktype:\n",
    "            self._advance()\n",
    "            return True\n",
    "        else:\n",
    "            return False\n",
    "    def _expect(self,toktype):\n",
    "        'Consume next token if it matches toktype or raise SyntaxError'\n",
    "        if not self._accept(toktype):\n",
    "            raise SyntaxError('Expected ' + toktype)\n",
    "            \n",
    "    def expr(self):\n",
    "        \"expression ::= term { ('+'|'-') term }*\"\n",
    "        exprval = self.term()\n",
    "        while self._accept('PLUS') or self._accept('MINUS'):\n",
    "            op = self.tok.type\n",
    "            right = self.term()\n",
    "            if op == 'PLUS':\n",
    "                exprval += right\n",
    "            elif op == 'MINUS':\n",
    "                exprval -= right\n",
    "        return exprval\n",
    "        \n",
    "    def term(self):\n",
    "        \"term ::= factor { ('*'|'/') factor }*\"\n",
    "        termval = self.factor()\n",
    "        while self._accept('TIMES') or self._accept('DIVIDE'):\n",
    "            op = self.tok.type\n",
    "            right = self.factor()\n",
    "            if op == 'TIMES':\n",
    "                termval *= right\n",
    "            elif op == 'DIVIDE':\n",
    "                termval /= right\n",
    "        return termval   \n",
    "    \n",
    "    def factor(self):\n",
    "        \"factor ::= NUM | ( expr )\"\n",
    "        if self._accept('NUM'):\n",
    "            return int(self.tok.value)\n",
    "        elif self._accept('LPAREN'):\n",
    "            exprval = self.expr()\n",
    "            self._expect('RPAREN')\n",
    "            return exprval\n",
    "        else:\n",
    "            raise SyntaxError('Expected NUMBER or LPAREN')"
   ]
  },
  {
   "cell_type": "code",
   "execution_count": 184,
   "metadata": {},
   "outputs": [
    {
     "name": "stdout",
     "output_type": "stream",
     "text": [
      "Operation with numbers: 5.8\n",
      "Operation with upper letters: 5.8\n",
      "Operation with upper and lower letters: 5.8\n",
      "Operation with only with upper letters: 5.8\n",
      "Operation with only with upper and lower letters: 5.8\n",
      "Operation with only with letters and numbers: 5.8\n"
     ]
    }
   ],
   "source": [
    "e= ExpressionEvaluator()\n",
    "\n",
    "#Operation with numbers\n",
    "print(\"Operation with numbers: \" + str(e.parse('1+2*(3+9)/5')))\n",
    "\n",
    "#Operation with upper letters\n",
    "print(\"Operation with upper letters: \" + str(e.parse('ONE+TWO*(THREE+NINE)/FIVE')))\n",
    "\n",
    "#Operation with upper and lower letters\n",
    "print(\"Operation with upper and lower letters: \" + str(e.parse('ONE+two*(THREE+NINE)/five')))\n",
    "\n",
    "#Operation with only with upper letters\n",
    "print(\"Operation with only with upper letters: \" + str(e.parse('ONE PLUS TWO TIMES (THREE PLUS NINE) DIVIDE FIVE')))\n",
    "\n",
    "\n",
    "#Operation with only with upper and lower letters\n",
    "print(\"Operation with only with upper and lower letters: \" + str(e.parse('ONE plus TWO times (THREE PLUS nine) DIVIDE FIVE')))\n",
    "\n",
    "#Operation with only with letters and numbers\n",
    "print(\"Operation with only with letters and numbers: \" + str(e.parse('1 plus TWO * (3 PLUS nine) DIVIDE FivE')))"
   ]
  },
  {
   "cell_type": "code",
   "execution_count": null,
   "metadata": {},
   "outputs": [],
   "source": []
  }
 ],
 "metadata": {
  "kernelspec": {
   "display_name": "Python 3",
   "language": "python",
   "name": "python3"
  },
  "language_info": {
   "codemirror_mode": {
    "name": "ipython",
    "version": 3
   },
   "file_extension": ".py",
   "mimetype": "text/x-python",
   "name": "python",
   "nbconvert_exporter": "python",
   "pygments_lexer": "ipython3",
   "version": "3.6.8"
  }
 },
 "nbformat": 4,
 "nbformat_minor": 2
}
